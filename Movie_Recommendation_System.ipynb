{
 "cells": [
  {
   "cell_type": "markdown",
   "metadata": {},
   "source": [
    "# Non negative Matrix Factorization algorithm for movie recommendation"
   ]
  },
  {
   "cell_type": "markdown",
   "metadata": {},
   "source": [
    "In this project, non negative matrix factorization algorithm is used to make movie recommendations to users.This technique learns a low-rank representation of the user-movies matrix and finds similar user's ratings to make recommendations. "
   ]
  },
  {
   "cell_type": "code",
   "execution_count": 1,
   "metadata": {},
   "outputs": [],
   "source": [
    "import pandas as pd\n",
    "import numpy as np\n",
    "import math\n",
    "from numpy.linalg import inv"
   ]
  },
  {
   "cell_type": "markdown",
   "metadata": {},
   "source": [
    "## Import and prepare data"
   ]
  },
  {
   "cell_type": "code",
   "execution_count": 2,
   "metadata": {},
   "outputs": [],
   "source": [
    "train_data = pd.read_csv('mf-data/ratings.csv',header=None)\n",
    "train_data = train_data.rename(columns={0:'user_id',1:'movie_id',2:'rating'})\n",
    "pivot = train_data.pivot(index='user_id',columns='movie_id',values='rating')"
   ]
  },
  {
   "cell_type": "code",
   "execution_count": 4,
   "metadata": {},
   "outputs": [],
   "source": [
    "cols = pivot.columns \n",
    "total = range(1,1683)\n",
    "diff = set(total)-set(cols)"
   ]
  },
  {
   "cell_type": "code",
   "execution_count": 5,
   "metadata": {},
   "outputs": [],
   "source": [
    "for d in diff:\n",
    "    pivot[d] = np.nan\n",
    "M_matrix = np.array(pivot)"
   ]
  },
  {
   "cell_type": "code",
   "execution_count": 6,
   "metadata": {},
   "outputs": [],
   "source": [
    "cols = pivot.columns\n",
    "\n",
    "mydict = dict()\n",
    "c=0\n",
    "for col in cols:\n",
    "    mydict[col]=c\n",
    "    c=c+1"
   ]
  },
  {
   "cell_type": "markdown",
   "metadata": {},
   "source": [
    "## Matrix factorization code"
   ]
  },
  {
   "cell_type": "code",
   "execution_count": 7,
   "metadata": {},
   "outputs": [],
   "source": [
    "# code to create omega_u and omega\n",
    "c=0\n",
    "omega_u = dict()\n",
    "omega = []\n",
    "for row in M_matrix:\n",
    "    values = []\n",
    "    c1=0\n",
    "    for val in row:\n",
    "        if not math.isnan(val):\n",
    "            values.append(c1)\n",
    "            omega.append((c,c1))\n",
    "        c1=c1+1\n",
    "    omega_u[c] = values\n",
    "    c=c+1"
   ]
  },
  {
   "cell_type": "code",
   "execution_count": 8,
   "metadata": {},
   "outputs": [],
   "source": [
    "objects = M_matrix.shape[1]\n",
    "users = M_matrix.shape[0]"
   ]
  },
  {
   "cell_type": "code",
   "execution_count": 9,
   "metadata": {},
   "outputs": [],
   "source": [
    "def mf(v,omega):\n",
    "    \n",
    "    obj_all = []\n",
    "    best_u = 0\n",
    "    best_v = 0\n",
    "    for iteration in range(0,100):\n",
    "\n",
    "        ulist = []\n",
    "        vlist = []\n",
    "        obj = 0\n",
    "\n",
    "        for i in range(0,users):\n",
    "            \n",
    "            f_term = inv(0.25*cov + np.matmul(v[~np.isnan(M_matrix[i])].T, v[~np.isnan(M_matrix[i])]))\n",
    "            s_term = np.matmul(np.matrix(M_matrix[i][~np.isnan(M_matrix[i])]), v[~np.isnan(M_matrix[i])])\n",
    "            ulist.append(np.matmul(f_term,s_term.T).T)\n",
    "\n",
    "        u = np.squeeze(np.asarray(ulist))\n",
    "\n",
    "        for j in range(0,objects):\n",
    "            \n",
    "            f_term1 = inv(0.25*cov + np.matmul(u[~np.isnan(M_matrix.T[j])].T, u[~np.isnan(M_matrix.T[j])]))\n",
    "            s_term1 = np.matmul(np.matrix(M_matrix.T[j][~np.isnan(M_matrix.T[j])]), u[~np.isnan(M_matrix.T[j])])\n",
    "            vlist.append(np.matmul(f_term1,s_term1.T).T)\n",
    "            \n",
    "        v = np.squeeze(np.asarray(vlist))\n",
    "\n",
    "        first = np.nansum(np.multiply(M_matrix-np.matmul(u,v.T),M_matrix-np.matmul(u,v.T)))/(2*0.25)\n",
    "        second = np.sum(np.square(np.linalg.norm(u,axis=0))/2)\n",
    "        third = np.sum(np.square(np.linalg.norm(v,axis=0))/2)\n",
    "        obj = obj + (-first-second-third)\n",
    "        obj_all.append(obj)\n",
    "        \n",
    "\n",
    "    return u,v,obj_all"
   ]
  },
  {
   "cell_type": "markdown",
   "metadata": {},
   "source": [
    "## Run the coordinate ascent algorithm for 10 iterations"
   ]
  },
  {
   "cell_type": "code",
   "execution_count": 56,
   "metadata": {},
   "outputs": [
    {
     "name": "stdout",
     "output_type": "stream",
     "text": [
      "iteration: 0\n",
      "iteration: 1\n",
      "iteration: 2\n",
      "iteration: 3\n",
      "iteration: 4\n",
      "iteration: 5\n",
      "iteration: 6\n",
      "iteration: 7\n",
      "iteration: 8\n",
      "iteration: 9\n"
     ]
    }
   ],
   "source": [
    "# initialise v\n",
    "obj_all_runs = []\n",
    "u_all = []\n",
    "v_all = []\n",
    "best_obj = float(\"-inf\")\n",
    "for runs in range(0,10):\n",
    "    u_current = []\n",
    "    v_current = []\n",
    "    mu = np.zeros(10)\n",
    "    cov = np.identity(10)\n",
    "    listv = np.random.multivariate_normal(mu,cov,objects)\n",
    "    v = np.array(listv)\n",
    "    u,v,obj = mf(v,omega)\n",
    "    obj_all_runs.append(obj)\n",
    "    u_all.append(u)\n",
    "    v_all.append(v)"
   ]
  },
  {
   "cell_type": "code",
   "execution_count": 105,
   "metadata": {},
   "outputs": [
    {
     "data": {
      "text/plain": [
       "[-90930.48464964534,\n",
       " -91081.90873388867,\n",
       " -91221.98158287109,\n",
       " -91185.20051417641,\n",
       " -91198.57787564764,\n",
       " -90933.0826003303,\n",
       " -91434.03335454252,\n",
       " -90939.35407209754,\n",
       " -91267.95978672661,\n",
       " -97248.72631352133]"
      ]
     },
     "execution_count": 105,
     "metadata": {},
     "output_type": "execute_result"
    }
   ],
   "source": [
    "objs = []\n",
    "for i in obj_all_runs:\n",
    "    objs.append(i[-1])"
   ]
  },
  {
   "cell_type": "markdown",
   "metadata": {},
   "source": [
    "## Visualize the convergence of the algorithm"
   ]
  },
  {
   "cell_type": "code",
   "execution_count": 95,
   "metadata": {},
   "outputs": [
    {
     "data": {
      "image/png": "[encoded data removed]",
      "text/plain": [
       "<Figure size 432x288 with 1 Axes>"
      ]
     },
     "metadata": {
      "needs_background": "light"
     },
     "output_type": "display_data"
    }
   ],
   "source": [
    "import matplotlib.pyplot as plt\n",
    "c=0\n",
    "for e in obj_all_runs:\n",
    "    plt.plot(range(1,100),e[1:100],label=c)\n",
    "    c=c+1\n",
    "plt.legend()\n",
    "plt.title(\"convergence of objective function across iterations\")\n",
    "plt.show()"
   ]
  },
  {
   "cell_type": "code",
   "execution_count": 58,
   "metadata": {},
   "outputs": [],
   "source": [
    "test_data = pd.read_csv('mf-data/ratings.csv',header=None)\n",
    "test_data = test_data.rename(columns={0:'user_id',1:'movie_id',2:'rating'})"
   ]
  },
  {
   "cell_type": "code",
   "execution_count": 59,
   "metadata": {},
   "outputs": [],
   "source": [
    "rmse_all = []\n",
    "for h in range(0,10):\n",
    "    M_pred = np.matmul(u_all[h],v_all[h].T)\n",
    "    s=0\n",
    "    for index, row in test_data.iterrows():\n",
    "        pred = M_pred[int(row['user_id'])-1, int(row['movie_id'])-1]\n",
    "        s = s + (pred-obs)**2\n",
    "    rmse = math.sqrt(s/len(test_data.index))\n",
    "    rmse_all.append(rmse)"
   ]
  },
  {
   "cell_type": "code",
   "execution_count": 61,
   "metadata": {},
   "outputs": [],
   "source": [
    "movies = pd.read_table('hw3-data/Prob3_movies.txt',header=None)"
   ]
  },
  {
   "cell_type": "code",
   "execution_count": 62,
   "metadata": {},
   "outputs": [],
   "source": [
    "from scipy.spatial import distance\n",
    "\n",
    "Star_Wars = movies[movies[0].str.contains('Star Wars')].index.item()\n",
    "My_Fair_Lady = movies[movies[0].str.contains('My Fair Lady')].index.item()\n",
    "GoodFellas = movies[movies[0].str.contains('GoodFellas')].index.item()"
   ]
  },
  {
   "cell_type": "code",
   "execution_count": 63,
   "metadata": {},
   "outputs": [],
   "source": [
    "c=0\n",
    "max_val = float(\"-inf\")\n",
    "for e in obj_all_runs:\n",
    "    if max(e) > max_val:\n",
    "        max_val = max(e)\n",
    "        max_index = c\n",
    "    c=c+1"
   ]
  },
  {
   "cell_type": "code",
   "execution_count": 64,
   "metadata": {},
   "outputs": [],
   "source": [
    "best_u = u_all[max_index]\n",
    "best_v = v_all[max_index]"
   ]
  },
  {
   "cell_type": "markdown",
   "metadata": {},
   "source": [
    "## Movies nearby"
   ]
  },
  {
   "cell_type": "code",
   "execution_count": 127,
   "metadata": {},
   "outputs": [
    {
     "name": "stdout",
     "output_type": "stream",
     "text": [
      "\n",
      "\n",
      "Top 10 movies near Star Wars (1977)\n",
      "                                           movies  distances\n",
      "0                  Raiders of the Lost Ark (1981)   0.454052\n",
      "1                       Return of the Jedi (1983)   0.581678\n",
      "2                      Princess Bride, The (1987)   0.660706\n",
      "3                             Lost Horizon (1937)   0.714654\n",
      "4       Indiana Jones and the Last Crusade (1989)   0.822184\n",
      "5                      Blues Brothers, The (1980)   0.853641\n",
      "6  Manon of the Spring (Manon des sources) (1986)   0.892771\n",
      "7                                Toy Story (1995)   0.902124\n",
      "8                      Usual Suspects, The (1995)   0.919417\n",
      "9               Terminator 2: Judgment Day (1991)   0.933066\n",
      "\n",
      "\n",
      "\n",
      "\n",
      "Top 10 movies near My Fair Lady (1964)\n",
      "                            movies  distances\n",
      "0              Little Women (1994)   1.020571\n",
      "1       Sound of Music, The (1965)   1.060958\n",
      "2       Singin' in the Rain (1952)   1.115607\n",
      "3                Old Yeller (1957)   1.134799\n",
      "4          Parent Trap, The (1961)   1.174998\n",
      "5     American in Paris, An (1951)   1.176848\n",
      "6  Bedknobs and Broomsticks (1971)   1.254717\n",
      "7                   Sabrina (1954)   1.265231\n",
      "8        Gone with the Wind (1939)   1.299586\n",
      "9            Quiet Man, The (1952)   1.317421\n",
      "\n",
      "\n",
      "\n",
      "\n",
      "Top 10 movies near GoodFellas (1990)\n",
      "                     movies  distances\n",
      "0             Casino (1995)   0.678991\n",
      "1  Full Metal Jacket (1987)   0.969209\n",
      "2            Platoon (1986)   1.054535\n",
      "3             Patton (1970)   1.083456\n",
      "4   Bonnie and Clyde (1967)   1.143039\n",
      "5       Pulp Fiction (1994)   1.152954\n",
      "6              Alien (1979)   1.166716\n",
      "7     Godfather, The (1972)   1.175203\n",
      "8           Die Hard (1988)   1.177589\n",
      "9     Cool Hand Luke (1967)   1.197849\n",
      "\n",
      "\n"
     ]
    }
   ],
   "source": [
    "for val in [Star_Wars,My_Fair_Lady,GoodFellas]:\n",
    "    dist = []\n",
    "    for i in range(0,best_v.shape[0]):\n",
    "        dist.append(distance.euclidean(best_v[val], best_v[i]))\n",
    "    print(\"\\n\")\n",
    "    print(\"Top 10 movies near \" + movies.loc[val].item())\n",
    "    movies_nearby = movies[0][np.argsort(np.array(dist))[2:12]].values\n",
    "    print(pd.DataFrame(data = {'movies' : movies_nearby,\n",
    "                           'distances' : np.sort(np.array(dist))[2:12]}))\n",
    "    print(\"\\n\")   "
   ]
  }
 ],
 "metadata": {
  "kernelspec": {
   "display_name": "Python 3",
   "language": "python",
   "name": "python3"
  },
  "language_info": {
   "codemirror_mode": {
    "name": "ipython",
    "version": 3
   },
   "file_extension": ".py",
   "mimetype": "text/x-python",
   "name": "python",
   "nbconvert_exporter": "python",
   "pygments_lexer": "ipython3",
   "version": "3.7.4"
  }
 },
 "nbformat": 4,
 "nbformat_minor": 2
}
